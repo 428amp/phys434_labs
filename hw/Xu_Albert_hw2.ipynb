{
 "cells": [
  {
   "cell_type": "code",
   "execution_count": 1,
   "id": "d9911abb-5b24-4e6c-a6d7-29cbcb8218da",
   "metadata": {},
   "outputs": [],
   "source": [
    "import pandas as pd\n",
    "import numpy as np\n",
    "import matplotlib.pyplot as plot\n",
    "import scipy"
   ]
  },
  {
   "cell_type": "markdown",
   "id": "41fe4865-b363-4708-a288-3b844478eca8",
   "metadata": {},
   "source": [
    "## **(2) two 6 sided dice**\n",
    "1. two snake eyes: $\\frac{1}{6} * \\frac{1}{6} = \\frac{1}{36}$\n",
    "2. P(sum=5): 1+4, 2+3, 3+2, 4+1, so $\\frac{4}{36}=.1111$\n",
    "3. P(at least one snake eyes in 5 rolls) = 1-P(no snake eyes in 5 rolls) = 1-(P(not snake eyes))^5 = $1-(\\frac{35}{36})^5=.1314$ \\\n",
    "   this is more likely than a roll that sums to 5."
   ]
  },
  {
   "cell_type": "code",
   "execution_count": null,
   "id": "103c46eb-3d86-47a9-9992-5c9aaa318461",
   "metadata": {},
   "outputs": [],
   "source": []
  }
 ],
 "metadata": {
  "kernelspec": {
   "display_name": "Python 3 (ipykernel)",
   "language": "python",
   "name": "python3"
  },
  "language_info": {
   "codemirror_mode": {
    "name": "ipython",
    "version": 3
   },
   "file_extension": ".py",
   "mimetype": "text/x-python",
   "name": "python",
   "nbconvert_exporter": "python",
   "pygments_lexer": "ipython3",
   "version": "3.12.3"
  }
 },
 "nbformat": 4,
 "nbformat_minor": 5
}
